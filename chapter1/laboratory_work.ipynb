{
 "cells": [
  {
   "cell_type": "markdown",
   "metadata": {},
   "source": [
    "2.7.1 Program in Python that Demonstrates the Use of Hashlib Library \n",
    "to Generate the SHA-3 Hash of a Message"
   ]
  },
  {
   "cell_type": "code",
   "execution_count": 2,
   "metadata": {},
   "outputs": [
    {
     "name": "stdout",
     "output_type": "stream",
     "text": [
      "f345a219da005ebe9c1a1eaad97bbf38a10c8473e41d0af7fb617caa0c6aa722\n"
     ]
    }
   ],
   "source": [
    "import hashlib\n",
    "\n",
    "message = b\"Hello, world!\"\n",
    "\n",
    "sha3_256 = hashlib.sha3_256()\n",
    "sha3_256.update(message)\n",
    "\n",
    "digest = sha3_256.digest()\n",
    "\n",
    "hex_digest = digest.hex()\n",
    "\n",
    "print(hex_digest)"
   ]
  },
  {
   "cell_type": "markdown",
   "metadata": {},
   "source": [
    "2.7.2 Python Program that Takes a String and the Desired Number of Leading \n",
    "Zeros from the User and Outputs the Input String, the Nonce Value for \n",
    "Which the Leading Zeros Puzzle Is Solved, and the Corresponding Hash \n",
    "Generated "
   ]
  },
  {
   "cell_type": "code",
   "execution_count": 10,
   "metadata": {},
   "outputs": [
    {
     "name": "stdout",
     "output_type": "stream",
     "text": [
      "Input String :  Hello World\n",
      "Nonce : 15\n",
      "Hash : 08f0b83f5f98e7c6a5c704b65005cd19295c339d10daf89e628d1a605319a2c4\n"
     ]
    }
   ],
   "source": [
    "import hashlib\n",
    "\n",
    "def solve_puzzle(string , leading_zeros):\n",
    "    nonce = 0\n",
    "    while True:\n",
    "        nonce_str = str(nonce)\n",
    "        data = string + nonce_str\n",
    "        hash_value = hashlib.sha3_256(data.encode()).hexdigest()\n",
    "        if hash_value.startswith(\"0\" * leading_zeros):\n",
    "            return nonce_str , hash_value\n",
    "        nonce += 1\n",
    "\n",
    "input_string = input(\"Enter the string : \")\n",
    "input_zeros = int(input(\"Enter the number of leading zeros : \"))\n",
    "\n",
    "nonce_value, hash_value = solve_puzzle(input_string , input_zeros)\n",
    "\n",
    "print(\"Input String : \", input_string)\n",
    "print(f\"Nonce : {nonce_value}\")\n",
    "print(f\"Hash : {hash_value}\")\n",
    "\n"
   ]
  },
  {
   "cell_type": "markdown",
   "metadata": {},
   "source": [
    "2.7.4 Program in Python that Demonstrates How to Use the SHA-256 Hash \n",
    "Function and Its Application in a Simple Blockchain "
   ]
  },
  {
   "cell_type": "code",
   "execution_count": 14,
   "metadata": {},
   "outputs": [
    {
     "name": "stdout",
     "output_type": "stream",
     "text": [
      "Blockchain is valid: False\n",
      "Blockchain is valid after tampering: False\n"
     ]
    }
   ],
   "source": [
    "import hashlib\n",
    "import json\n",
    "from time import time\n",
    "\n",
    "\n",
    "class Block:\n",
    "    def __init__(self, index, timestamp, data, previous_hash):\n",
    "        self.index = index\n",
    "        self.timestamp = timestamp\n",
    "        self.data = data\n",
    "        self.previous_hash = previous_hash\n",
    "        self.hash = self.calculate_hash()\n",
    "\n",
    "    def calculate_hash(self):\n",
    "        block_string = json.dumps(self.__dict__, sort_keys=True)\n",
    "        return hashlib.sha256(block_string.encode()).hexdigest()\n",
    "\n",
    "\n",
    "class Blockchain:\n",
    "    def __init__(self):\n",
    "        self.chain = [self.create_genesis_block()]\n",
    "\n",
    "    def create_genesis_block(self):\n",
    "        return Block(0, time(), \"Genesis Block\", \"0\")\n",
    "\n",
    "    def add_block(self, data):\n",
    "        previous_block = self.chain[-1]\n",
    "        new_block = Block(len(self.chain), time(), data, previous_block.hash)\n",
    "        self.chain.append(new_block)\n",
    "\n",
    "    def is_chain_valid(self):\n",
    "        for i in range(1, len(self.chain)):\n",
    "            current_block = self.chain[i]\n",
    "            previous_block = self.chain[i - 1]\n",
    "            # Check if the current block's hash is valid\n",
    "            if current_block.hash != current_block.calculate_hash():\n",
    "                return False\n",
    "            # Check if the previous hash matches\n",
    "            if current_block.previous_hash != previous_block.hash:\n",
    "                return False\n",
    "        return True\n",
    "\n",
    "\n",
    "# Test the Blockchain\n",
    "blockchain = Blockchain()\n",
    "blockchain.add_block(\"Transaction 1\")\n",
    "blockchain.add_block(\"Transaction 2\")\n",
    "blockchain.add_block(\"Transaction 3\")\n",
    "\n",
    "print(\"Blockchain is valid:\", blockchain.is_chain_valid())\n",
    "\n",
    "# Test by tampering with the data\n",
    "blockchain.chain[1].data = \"Block 1 modified\"\n",
    "blockchain.chain[1].hash = blockchain.chain[1].calculate_hash()  # Force recalculation of hash\n",
    "\n",
    "print(\"Blockchain is valid after tampering:\", blockchain.is_chain_valid())\n"
   ]
  },
  {
   "cell_type": "code",
   "execution_count": 15,
   "metadata": {},
   "outputs": [
    {
     "name": "stdout",
     "output_type": "stream",
     "text": [
      "MD5 hash is consistent\n",
      "MD5 hash is 32 characters long\n",
      "SHA-1 hash is consistent\n",
      "SHA-1 hash is 40 characters long\n",
      "SHA-256 hash is consistent\n",
      "SHA-256 hash is 64 characters long\n"
     ]
    }
   ],
   "source": [
    "import hashlib \n",
    " \n",
    "# Define a message to hash \n",
    "message = b\"Hello, world!\" \n",
    " \n",
    "# Calculate hash values using different hash functions \n",
    "md5_hash = hashlib.md5(message).hexdigest() \n",
    "sha1_hash = hashlib.sha1(message).hexdigest() \n",
    "sha256_hash = hashlib.sha256(message).hexdigest() \n",
    " \n",
    "# Verify hash properties \n",
    "# MD5 \n",
    "if md5_hash == hashlib.md5(message).hexdigest(): \n",
    "    print(\"MD5 hash is consistent\") \n",
    "else: \n",
    "    print(\"MD5 hash is inconsistent\")\n",
    "\n",
    "if len(md5_hash) == 32: \n",
    "    print(\"MD5 hash is 32 characters long\") \n",
    "else: \n",
    "    print(\"MD5 hash is not 32 characters long\") \n",
    "\n",
    "# SHA-1 \n",
    "if sha1_hash == hashlib.sha1(message).hexdigest(): \n",
    "    print(\"SHA-1 hash is consistent\") \n",
    "else: \n",
    "    print(\"SHA-1 hash is inconsistent\") \n",
    "\n",
    "if len(sha1_hash) == 40: \n",
    "    print(\"SHA-1 hash is 40 characters long\") \n",
    "else: \n",
    "    print(\"SHA-1 hash is not 40 characters long\") \n",
    "\n",
    "# SHA-256 \n",
    "if sha256_hash == hashlib.sha256(message).hexdigest(): \n",
    "    print(\"SHA-256 hash is consistent\") \n",
    "else: \n",
    "    print(\"SHA-256 hash is inconsistent\") \n",
    "\n",
    "if len(sha256_hash) == 64: \n",
    "    print(\"SHA-256 hash is 64 characters long\") \n",
    "else: \n",
    "    print(\"SHA-256 hash is not 64 characters long\")"
   ]
  },
  {
   "cell_type": "markdown",
   "metadata": {},
   "source": [
    "markel root tree\n"
   ]
  },
  {
   "cell_type": "code",
   "execution_count": 16,
   "metadata": {},
   "outputs": [
    {
     "name": "stdout",
     "output_type": "stream",
     "text": [
      "Merkle root: 14721fd4f79f1434b31545bee126ab3f800f42f3de41473d1e41c9c828061900\n",
      "Merkle root: 14721fd4f79f1434b31545bee126ab3f800f42f3de41473d1e41c9c828061900\n"
     ]
    }
   ],
   "source": [
    "import hashlib\n",
    "\n",
    "def build_merkle_tree(leaves):\n",
    "\tnum_leaves = len(leaves)\n",
    "\n",
    "\t# If there is only one leaf, return it as the Merkle root\n",
    "\tif num_leaves == 1:\n",
    "\t\treturn leaves[0]\n",
    "\n",
    "\t# If the number of leaves is odd, duplicate the last leaf\n",
    "\tif num_leaves % 2 == 1:\n",
    "\t\tleaves.append(leaves[-1])\n",
    "\t\tnum_leaves += 1\n",
    "\n",
    "\t# Compute the hash of each pair of leaves\n",
    "\tpairs = [leaves[i] + leaves[i+1] for i in range(0, num_leaves, 2)]\n",
    "\thashes = [hashlib.sha256(pair.encode()).hexdigest() for pair in pairs]\n",
    "\n",
    "\t# Recursively build the Merkle tree from the hashes\n",
    "\treturn build_merkle_tree(hashes)\n",
    "\n",
    "# Example usage\n",
    "leaves = [\"apple\", \"banana\", \"cherry\", \"date\"]\n",
    "merkle_root = build_merkle_tree(leaves)\n",
    "print(\"Merkle root:\", merkle_root)\n",
    "\n",
    "# Print all nodes\n",
    "def print_merkle_tree(node, depth=0):\n",
    "\tindent = \" \" * depth * 4\n",
    "\tprint(indent + node)\n",
    "\tif len(node) == 64: # Check if the node is a hash value\n",
    "\t\tprint_merkle_tree(node[:32], depth+1)\n",
    "\t\tprint_merkle_tree(node[32:], depth+1)\n",
    "\n",
    "def build_merkle_tree(leaves):\n",
    "\tnum_leaves = len(leaves)\n",
    "\n",
    "\t# If there is only one leaf, return it as the Merkle root\n",
    "\tif num_leaves == 1:\n",
    "\t\treturn leaves[0]\n",
    "\n",
    "\t# If the number of leaves is odd, duplicate the last leaf\n",
    "\tif num_leaves % 2 == 1:\n",
    "\t\tleaves.append(leaves[-1])\n",
    "\t\tnum_leaves += 1\n",
    "\n",
    "\t# Compute the hash of each pair of leaves\n",
    "\tpairs = [leaves[i] + leaves[i+1] for i in range(0, num_leaves, 2)]\n",
    "\thashes = [hashlib.sha256(pair.encode()).hexdigest() for pair in pairs]\n",
    "\n",
    "\t# Recursively build the Merkle tree from the hashes\n",
    "\treturn build_merkle_tree(hashes)\n",
    "\n",
    "# Example usage\n",
    "leaves = [\"apple\", \"banana\", \"cherry\", \"date\"]\n",
    "merkle_root = build_merkle_tree(leaves)\n",
    "print(\"Merkle root:\", merkle_root)\n",
    "\n",
    "# Print all nodes\n",
    "def print_merkle_tree(node, depth=0):\n",
    "\tindent = \" \" * depth * 4\n",
    "\tprint(indent + node)\n",
    "\tif len(node) == 64: # Check if the node is a hash value\n",
    "\t\tprint_merkle_tree(node[:32], depth+1)\n",
    "\t\tprint_merkle_tree(node[32:], depth+1)"
   ]
  }
 ],
 "metadata": {
  "kernelspec": {
   "display_name": "Python 3",
   "language": "python",
   "name": "python3"
  },
  "language_info": {
   "codemirror_mode": {
    "name": "ipython",
    "version": 3
   },
   "file_extension": ".py",
   "mimetype": "text/x-python",
   "name": "python",
   "nbconvert_exporter": "python",
   "pygments_lexer": "ipython3",
   "version": "3.12.3"
  }
 },
 "nbformat": 4,
 "nbformat_minor": 2
}
