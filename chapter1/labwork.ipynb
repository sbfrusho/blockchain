{
 "cells": [
  {
   "cell_type": "markdown",
   "metadata": {},
   "source": [
    "2.7.1 Program in Python that Demonstrates the Use of Hashlib Library \n",
    "to Generate the SHA-3 Hash of a Message"
   ]
  },
  {
   "cell_type": "code",
   "execution_count": 8,
   "metadata": {},
   "outputs": [
    {
     "name": "stdout",
     "output_type": "stream",
     "text": [
      "sha3_256:  <sha3_256 _hashlib.HASH object @ 0x000001CD2D8B4A70>\n",
      "Digest:  b'\\x1a\\xf1zfN?\\xa8\\xe4\\x19\\xb8\\xba\\x05\\xc2\\xa1s\\x16\\x9d\\xf7ab\\xa5\\xa2\\x86\\xe0\\xc4\\x05\\xb4`\\xd4x\\xf7\\xef'\n",
      "Hexdigest:  1af17a664e3fa8e419b8ba05c2a173169df76162a5a286e0c405b460d478f7ef\n"
     ]
    }
   ],
   "source": [
    "import hashlib\n",
    "\n",
    "message = b\"Hello, World!\"\n",
    "\n",
    "sha3_256 = hashlib.sha3_256()\n",
    "\n",
    "sha3_256.update(message)\n",
    "\n",
    "print(\"sha3_256: \", sha3_256)\n",
    "\n",
    "digest = sha3_256.digest()\n",
    "\n",
    "print(\"Digest: \",digest)\n",
    "\n",
    "hexdigest = digest.hex()\n",
    "\n",
    "print(\"Hexdigest: \",hexdigest)"
   ]
  },
  {
   "cell_type": "markdown",
   "metadata": {},
   "source": [
    "2.7.2 Python Program that Takes a String and the Desired Number of Leading \n",
    "Zeros from the User and Outputs the Input String, the Nonce Value for \n",
    "Which the Leading Zeros Puzzle Is Solved, and the Corresponding Hash \n",
    "Generated "
   ]
  },
  {
   "cell_type": "code",
   "execution_count": 17,
   "metadata": {},
   "outputs": [
    {
     "name": "stdout",
     "output_type": "stream",
     "text": [
      "Input String: Hello World\n",
      "Nonce value for which the puzzle is solved: 2\n",
      "Generated Hash 0de69f56365c10550d05e65ae8229dd0686f7894a807830daec8caa879731f4d\n"
     ]
    }
   ],
   "source": [
    "import hashlib\n",
    "\n",
    "def solve_puzzle(string, leading_zeros):\n",
    "    nonce = 0\n",
    "    while True:\n",
    "        nonce_str = str(nonce)\n",
    "        data = string + nonce_str\n",
    "        hash_value = hashlib.sha256(data.encode()).hexdigest()\n",
    "        if hash_value.startswith(\"0\" * leading_zeros):\n",
    "            return nonce_str, hash_value\n",
    "        nonce += 1\n",
    "\n",
    "input_string = input(\"Enter the String: \")\n",
    "input_zeros = int(input(\"Enter the number of leading zeros: \"))\n",
    "\n",
    "nonce_value, hash_result = solve_puzzle(input_string, input_zeros)\n",
    "\n",
    "\n",
    "print(\"Input String:\", input_string)\n",
    "print(\"Nonce value for which the puzzle is solved:\", nonce_value)\n",
    "print(\"Generated Hash\", hash_result)\n"
   ]
  },
  {
   "cell_type": "markdown",
   "metadata": {},
   "source": [
    "2.7.3 Program to Create Hash Code from Given Input String"
   ]
  },
  {
   "cell_type": "code",
   "execution_count": 10,
   "metadata": {},
   "outputs": [
    {
     "name": "stdout",
     "output_type": "stream",
     "text": [
      "String: Hello, World\n",
      "Hash value (SHA-256): 03675ac53ff9cd1535ccc7dfcdfa2c458c5218371f418dc136f2d19ac1fbe8a5\n"
     ]
    }
   ],
   "source": [
    "import hashlib\n",
    "string = \"Hello, World\"\n",
    "\n",
    "hash_object = hashlib.sha256()\n",
    "\n",
    "hash_object.update(string.encode('utf-8'))\n",
    "\n",
    "hexdigest = hash_object.hexdigest()\n",
    "\n",
    "print(\"String: {}\".format(string))\n",
    "print(\"Hash value (SHA-256): {}\".format(hexdigest))\n",
    "\n"
   ]
  },
  {
   "cell_type": "markdown",
   "metadata": {},
   "source": [
    "2.7.4 Program in Python that Demonstrates How to Use the SHA-256 Hash \n",
    "Function and Its Application in a Simple Blockchain "
   ]
  },
  {
   "cell_type": "code",
   "execution_count": 38,
   "metadata": {},
   "outputs": [
    {
     "name": "stdout",
     "output_type": "stream",
     "text": [
      "Blockchain is valid: True\n",
      "Previous hash mismatch at block 2\n",
      "Blockchain is valid: False\n"
     ]
    }
   ],
   "source": [
    "import hashlib\n",
    "import json\n",
    "from time import time\n",
    "\n",
    "\n",
    "class Block:\n",
    "    def __init__(self, index, timestamp, data, previous_hash):\n",
    "        self.index = index\n",
    "        self.timestamp = timestamp\n",
    "        self.data = data\n",
    "        self.previous_hash = previous_hash\n",
    "        self.hash = self.calculate_hash()\n",
    "\n",
    "    def calculate_hash(self):\n",
    "        block_content = {\n",
    "            \"index\": self.index,\n",
    "            \"timestamp\": self.timestamp,\n",
    "            \"data\": self.data,\n",
    "            \"previous_hash\": self.previous_hash,\n",
    "        }\n",
    "        # print(\"Block content:\\n\",block_content)\n",
    "        # block_string = json.dumps(self.__dict__, sort_keys=True)\n",
    "        block_string = json.dumps(block_content,sort_keys=True)\n",
    "        return hashlib.sha256(block_string.encode()).hexdigest()\n",
    "\n",
    "\n",
    "class Blockchain:\n",
    "    def __init__(self):\n",
    "        self.chain = [self.create_genesis_block()]\n",
    "\n",
    "    def create_genesis_block(self):\n",
    "        return Block(0, time(), \"Genesis Block\", \"0\")\n",
    "\n",
    "    def add_block(self, data):\n",
    "        previous_block = self.chain[-1]\n",
    "        new_block = Block(previous_block.index + 1, time(), data, previous_block.hash)\n",
    "        self.chain.append(new_block)\n",
    "\n",
    "    def is_chain_valid(self):\n",
    "        for i in range(1, len(self.chain)):\n",
    "            current_block = self.chain[i]\n",
    "            previous_block = self.chain[i - 1]\n",
    "\n",
    "            # Validate hash integrity\n",
    "            if current_block.hash != current_block.calculate_hash():\n",
    "                print(f\"Hash mismatch at block {current_block.index}\")\n",
    "                return False\n",
    "\n",
    "            # Validate link integrity\n",
    "            if current_block.previous_hash != previous_block.hash:\n",
    "                print(f\"Previous hash mismatch at block {current_block.index}\")\n",
    "                return False\n",
    "\n",
    "        return True\n",
    "\n",
    "\n",
    "# Create blockchain\n",
    "blockchain = Blockchain()\n",
    "\n",
    "# Add blocks\n",
    "blockchain.add_block(\"Transaction 1\")\n",
    "blockchain.add_block(\"Transaction 2\")\n",
    "blockchain.add_block(\"Transaction 3\")\n",
    "\n",
    "# Validate blockchain\n",
    "print(\"Blockchain is valid:\", blockchain.is_chain_valid()) \n",
    "blockchain.chain[1].data = \"Tampered Transaction\"\n",
    "blockchain.chain[1].hash = blockchain.chain[1].calculate_hash() \n",
    "print(\"Blockchain is valid:\", blockchain.is_chain_valid())\n"
   ]
  },
  {
   "cell_type": "markdown",
   "metadata": {},
   "source": [
    "2.7.5 Write a Program in Python to Verify Hash Properties"
   ]
  },
  {
   "cell_type": "code",
   "execution_count": 15,
   "metadata": {},
   "outputs": [
    {
     "name": "stdout",
     "output_type": "stream",
     "text": [
      "82bb413746aee42f89dea2b59614f9ef \n",
      "MD5 hash is consistent\n",
      "82bb413746aee42f89dea2b59614f9ef \n",
      "MD5 hash is 32 characters long\n",
      "SHA-1 hash is consistent\n",
      "907d14fb3af2b0d4f18c2d46abe8aedce17367bd \n",
      "SHA-1 hash is 40 characters long\n",
      "03675ac53ff9cd1535ccc7dfcdfa2c458c5218371f418dc136f2d19ac1fbe8a5 \n",
      "SHA-256 hash is consistent\n",
      "03675ac53ff9cd1535ccc7dfcdfa2c458c5218371f418dc136f2d19ac1fbe8a5 \n",
      "SHA-256 hash is 64 characters long\n"
     ]
    }
   ],
   "source": [
    "message = b\"Hello, World\"\n",
    "# Calculate hash values using different hash functions \n",
    "md5_hash = hashlib.md5(message).hexdigest() \n",
    "sha1_hash = hashlib.sha1(message).hexdigest() \n",
    "sha256_hash = hashlib.sha256(message).hexdigest() \n",
    "\n",
    "# Verify hash properties \n",
    "# MD5 \n",
    "if md5_hash == hashlib.md5(message).hexdigest(): \n",
    "\tprint(md5_hash, \"\\nMD5 hash is consistent\") \n",
    "else: \n",
    "\tprint(md5_hash, \"\\nMD5 hash is inconsistent\")\n",
    "\n",
    "if len(md5_hash) == 32: \n",
    "\tprint(md5_hash, \"\\nMD5 hash is 32 characters long\") \n",
    "else: \n",
    "\tprint(md5_hash,\"\\nMD5 hash is not 32 characters long\") \n",
    "\n",
    "# SHA-1 \n",
    "if sha1_hash == hashlib.sha1(message).hexdigest(): \n",
    "\tprint(\"SHA-1 hash is consistent\") \n",
    "else: \n",
    "\tprint(\"SHA-1 hash is inconsistent\") \n",
    "\n",
    "if len(sha1_hash) == 40: \n",
    "\tprint(sha1_hash, \"\\nSHA-1 hash is 40 characters long\") \n",
    "else: \n",
    "\tprint(sha1_hash, \"\\nSHA-1 hash is not 40 characters long\") \n",
    "\n",
    "# SHA-256 \n",
    "if sha256_hash == hashlib.sha256(message).hexdigest(): \n",
    "\tprint(sha256_hash, \"\\nSHA-256 hash is consistent\") \n",
    "else: \n",
    "\tprint(sha256_hash, \"\\nSHA-256 hash is inconsistent\") \n",
    "\n",
    "if len(sha256_hash) == 64: \n",
    "\tprint(sha256_hash, \"\\nSHA-256 hash is 64 characters long\") \n",
    "else: \n",
    "\tprint(sha256_hash, \"\\nSHA-256 hash is not 64 characters long\")\n"
   ]
  },
  {
   "cell_type": "markdown",
   "metadata": {},
   "source": [
    "2.7.6 Program to Demonstrate a Simple Implementation of a Blockchain Using \n",
    "Hash Codes as a Chain of Blocks"
   ]
  },
  {
   "cell_type": "code",
   "execution_count": 40,
   "metadata": {},
   "outputs": [
    {
     "name": "stdout",
     "output_type": "stream",
     "text": [
      "Is blockchain valid? True\n",
      "Is manipulated blockchain valid? False\n"
     ]
    }
   ],
   "source": [
    "import hashlib\n",
    "import datetime\n",
    "\n",
    "class Block:\n",
    "    def __init__(self, timestamp, data, previous_hash):\n",
    "        self.timestamp = timestamp\n",
    "        self.data = data\n",
    "        self.previous_hash = previous_hash\n",
    "        self.hash = self.calculate_hash()\n",
    "    \n",
    "    def calculate_hash(self):\n",
    "        hash_string = str(self.timestamp) + str(self.data) + str(self.previous_hash)\n",
    "        return hashlib.sha256(hash_string.encode()).hexdigest()\n",
    "\n",
    "\n",
    "class Blockchain:\n",
    "    def __init__(self):\n",
    "        self.chain = [self.create_genesis_block()]\n",
    "    \n",
    "    def create_genesis_block(self):\n",
    "        return Block(datetime.datetime.now(), \"Genesis Block\", \"0\")\n",
    "    \n",
    "    def get_latest_block(self):\n",
    "        return self.chain[-1]\n",
    "    \n",
    "    def add_new_block(self, new_block):\n",
    "        new_block.previous_hash = self.get_latest_block().hash\n",
    "        new_block.hash = new_block.calculate_hash()\n",
    "        self.chain.append(new_block)\n",
    "\n",
    "    def is_valid(self):\n",
    "        for i in range(1, len(self.chain)):\n",
    "            current_block = self.chain[i]\n",
    "            previous_block = self.chain[i - 1]\n",
    "\n",
    "            # Validate the current block's hash\n",
    "            if current_block.hash != current_block.calculate_hash():\n",
    "                return False\n",
    "            \n",
    "            # Validate the current block's reference to the previous block\n",
    "            if current_block.previous_hash != previous_block.hash:\n",
    "                return False\n",
    "        \n",
    "        return True\n",
    "\n",
    "\n",
    "# Instantiate the blockchain\n",
    "blockchain = Blockchain()\n",
    "\n",
    "# Add blocks to the blockchain\n",
    "blockchain.add_new_block(Block(datetime.datetime.now(), \"Block 1\", \"\"))\n",
    "blockchain.add_new_block(Block(datetime.datetime.now(), \"Block 2\", \"\"))\n",
    "blockchain.add_new_block(Block(datetime.datetime.now(), \"Block 3\", \"\"))\n",
    "\n",
    "# Check if the blockchain is valid\n",
    "print(\"Is blockchain valid?\", blockchain.is_valid())\n",
    "\n",
    "# Tamper with a block's data\n",
    "blockchain.chain[1].data = \"Modified Block\"\n",
    "\n",
    "# Check if the blockchain is still valid after tampering\n",
    "print(\"Is manipulated blockchain valid?\", blockchain.is_valid())\n"
   ]
  },
  {
   "cell_type": "markdown",
   "metadata": {},
   "source": [
    "2.7.8 Program to Create a Merkle Tree in Blockchain"
   ]
  },
  {
   "cell_type": "code",
   "execution_count": 46,
   "metadata": {},
   "outputs": [
    {
     "name": "stdout",
     "output_type": "stream",
     "text": [
      "Merkle root: 14721fd4f79f1434b31545bee126ab3f800f42f3de41473d1e41c9c828061900\n",
      "14721fd4f79f1434b31545bee126ab3f800f42f3de41473d1e41c9c828061900\n",
      "    14721fd4f79f1434b31545bee126ab3f\n",
      "    800f42f3de41473d1e41c9c828061900\n"
     ]
    }
   ],
   "source": [
    "import hashlib \n",
    "\n",
    "def build_merkle_tree(leaves): \n",
    "\tnum_leaves = len(leaves) \n",
    "\t \n",
    "\tif num_leaves == 1: \n",
    "\t\treturn leaves[0] \n",
    "\n",
    "\tif num_leaves % 2 == 1: \n",
    "\t\tleaves.append(leaves[-1]) \n",
    "\t\tnum_leaves += 1 \n",
    "\n",
    "\tpairs = [leaves[i] + leaves[i+1] for i in range(0, num_leaves, 2)] \n",
    "\thashes = [hashlib.sha256(pair.encode()).hexdigest() for pair in pairs] \n",
    "\n",
    "\treturn build_merkle_tree(hashes) \n",
    "\n",
    "# Example usage \n",
    "leaves = [\"apple\", \"banana\", \"cherry\", \"date\"] \n",
    "merkle_root = build_merkle_tree(leaves) \n",
    "print(\"Merkle root:\", merkle_root) \n",
    "\n",
    "# Print all nodes \n",
    "def print_merkle_tree(node, depth=0): \n",
    "\tindent = \" \" * depth * 4 \n",
    "\tprint(indent + node) \n",
    "\tif len(node) == 64: # Check if the node is a hash value \n",
    "\t\tprint_merkle_tree(node[:32], depth+1) \n",
    "\t\tprint_merkle_tree(node[32:], depth+1) \n",
    "\n",
    "print_merkle_tree(merkle_root) "
   ]
  }
 ],
 "metadata": {
  "kernelspec": {
   "display_name": "Python 3",
   "language": "python",
   "name": "python3"
  },
  "language_info": {
   "codemirror_mode": {
    "name": "ipython",
    "version": 3
   },
   "file_extension": ".py",
   "mimetype": "text/x-python",
   "name": "python",
   "nbconvert_exporter": "python",
   "pygments_lexer": "ipython3",
   "version": "3.12.3"
  }
 },
 "nbformat": 4,
 "nbformat_minor": 2
}
