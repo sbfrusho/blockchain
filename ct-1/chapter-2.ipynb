{
 "cells": [
  {
   "cell_type": "markdown",
   "metadata": {},
   "source": [
    "2.7.1 Program in Python that Demonstrates the Use of Hashlib Library\n",
    "to Generate the SHA-3 Hash of a Message "
   ]
  },
  {
   "cell_type": "code",
   "execution_count": 1,
   "metadata": {},
   "outputs": [
    {
     "name": "stdout",
     "output_type": "stream",
     "text": [
      "f345a219da005ebe9c1a1eaad97bbf38a10c8473e41d0af7fb617caa0c6aa722\n"
     ]
    }
   ],
   "source": [
    "import hashlib\n",
    "\n",
    "# Define the message to be hashed\n",
    "message = b\"Hello, world!\"\n",
    "\n",
    "# Create a SHA-3 hash object with a 256-bit output size\n",
    "sha3_256 = hashlib.sha3_256()\n",
    "\n",
    "# Update the hash object with the message\n",
    "sha3_256.update(message)\n",
    "\n",
    "# Get the hash digest as a byte string\n",
    "digest = sha3_256.digest()\n",
    "\n",
    "# Convert the digest to a hexadecimal string for display\n",
    "hexdigest = digest.hex()\n",
    "\n",
    "# Print the hash digest in hexadecimal format\n",
    "print(hexdigest)"
   ]
  },
  {
   "cell_type": "markdown",
   "metadata": {},
   "source": [
    "2.7.2 Python Program that Takes a String and the Desired Number of Leading\n",
    "Zeros from the User and Outputs the Input String, the Nonce Value for\n",
    "Which the Leading Zeros Puzzle Is Solved, and the Corresponding Hash\n",
    "Generated"
   ]
  },
  {
   "cell_type": "code",
   "execution_count": 2,
   "metadata": {},
   "outputs": [
    {
     "data": {
      "application/vnd.jupyter.widget-view+json": {
       "model_id": "1282fe553fc244f3af02d3440c87292f",
       "version_major": 2,
       "version_minor": 0
      },
      "text/plain": [
       "Text(value='', description='Enter the string:')"
      ]
     },
     "metadata": {},
     "output_type": "display_data"
    },
    {
     "data": {
      "application/vnd.jupyter.widget-view+json": {
       "model_id": "b959067a853d4d79b6217bf51591f169",
       "version_major": 2,
       "version_minor": 0
      },
      "text/plain": [
       "IntText(value=0, description='Enter the number of leading zeros:')"
      ]
     },
     "metadata": {},
     "output_type": "display_data"
    },
    {
     "data": {
      "application/vnd.jupyter.widget-view+json": {
       "model_id": "db6ded62299e4d85b3f50b3585d45567",
       "version_major": 2,
       "version_minor": 0
      },
      "text/plain": [
       "Button(description='Solve Puzzle', style=ButtonStyle())"
      ]
     },
     "metadata": {},
     "output_type": "display_data"
    },
    {
     "name": "stdout",
     "output_type": "stream",
     "text": [
      "Input String: Hello world\n",
      "Nonce value for which the puzzle is solved: 4\n",
      "Generated Hash: 09b044fe014a500edc4358d55e4b59d595b7a2c9d01143ae37c577d1f68378e4\n"
     ]
    }
   ],
   "source": [
    "import hashlib\n",
    "import ipywidgets as widgets\n",
    "from IPython.display import display\n",
    "\n",
    "def solve_puzzle(string, leading_zeros):\n",
    "\tnonce = 0\n",
    "\twhile True:\n",
    "\t\tnonce_str = str(nonce)\n",
    "\t\tdata = string + nonce_str\n",
    "\t\thash_value = hashlib.sha256(data.encode()).hexdigest()\n",
    "\t\tif hash_value.startswith(\"0\" * leading_zeros):\n",
    "\t\t\treturn nonce_str, hash_value\n",
    "\t\tnonce += 1\n",
    "\n",
    "# Create widgets for user input\n",
    "input_string_widget = widgets.Text(description=\"Enter the string:\")\n",
    "input_zeros_widget = widgets.IntText(description=\"Enter the number of leading zeros:\")\n",
    "\n",
    "# Display widgets\n",
    "display(input_string_widget, input_zeros_widget)\n",
    "\n",
    "def on_button_click(b):\n",
    "\tinput_string = input_string_widget.value\n",
    "\tinput_zeros = input_zeros_widget.value\n",
    "\n",
    "\t# Solve the puzzle\n",
    "\tnonce_value, hash_result = solve_puzzle(input_string, input_zeros)\n",
    "\n",
    "\t# Print the results\n",
    "\tprint(\"Input String:\", input_string)\n",
    "\tprint(\"Nonce value for which the puzzle is solved:\", nonce_value)\n",
    "\tprint(\"Generated Hash:\", hash_result)\n",
    "\n",
    "# Create and display a button to trigger the puzzle solving\n",
    "button = widgets.Button(description=\"Solve Puzzle\")\n",
    "button.on_click(on_button_click)\n",
    "display(button)"
   ]
  },
  {
   "cell_type": "markdown",
   "metadata": {},
   "source": [
    "2.7.3 Program to Create Hash Code from Given Input String"
   ]
  },
  {
   "cell_type": "code",
   "execution_count": 3,
   "metadata": {},
   "outputs": [
    {
     "name": "stdout",
     "output_type": "stream",
     "text": [
      "String: Hello, World!\n",
      "Hash value (SHA-256): dffd6021bb2bd5b0af676290809ec3a53191dd81c7f70a4b28688a362182986f\n"
     ]
    }
   ],
   "source": [
    "string = \"Hello, World!\"\n",
    "# create a hash object using the SHA-256 algorithm\n",
    "hash_object = hashlib.sha256()\n",
    "# update the hash object with the string’s bytes\n",
    "hash_object.update(string.encode('utf-8'))\n",
    "# get the hash value as a hex string\n",
    "hex_dig = hash_object.hexdigest()\n",
    "print(\"String: {}\".format(string))\n",
    "print(\"Hash value (SHA-256): {}\".format(hex_dig)) "
   ]
  },
  {
   "cell_type": "markdown",
   "metadata": {},
   "source": [
    "2.7.4 Program in Python that Demonstrates How to Use the SHA-256 Hash\n",
    "Function and Its Application in a Simple Blockchain "
   ]
  },
  {
   "cell_type": "code",
   "execution_count": 4,
   "metadata": {},
   "outputs": [
    {
     "name": "stdout",
     "output_type": "stream",
     "text": [
      "Mining Block 1\n",
      "Block mined: 008a2b66818d28e8e853b092e39c13a2f20fc4586943dc4b7cd5f73331e2361a\n",
      "Mining Block 2\n",
      "Block mined: 00a46a180c1638e01c8c05d55bd020e540ab22f6ed161b8249e984a280a759b0\n",
      "Mining Block 3\n",
      "Block mined: 00407501e8e9d1b1dbe4666c9beede70c94eb8c5c0a0151aab750c823f367407\n",
      "Mining Block 4\n",
      "Block mined: 00bb8139cc4f630d1361774abfbb620c386f63a15fdf18da0039654f57d93a6b\n",
      "Is blockchain valid?\n",
      "The blockchain is valid. Its not tempered yet\n",
      "Is blockchain valid?\n",
      "The blockchain is not valid. Blockchain is tempered\n"
     ]
    }
   ],
   "source": [
    "import hashlib\n",
    "import datetime\n",
    "\n",
    "class Block:\n",
    "    def __init__(self, data, previous_hash):\n",
    "        self.datetime = datetime.datetime.now()\n",
    "        self.data = data\n",
    "        self.previous_hash = previous_hash\n",
    "        self.nonce = 0\n",
    "        self.hash = self.calculate_hash()\n",
    "    \n",
    "    def calculate_hash(self):\n",
    "        hash_string = str(self.datetime) + str(self.data) + str(self.previous_hash) + str(self.nonce)\n",
    "        return hashlib.sha256(hash_string.encode()).hexdigest()\n",
    "    \n",
    "    def mine_block(self, difficulty):\n",
    "        while self.hash[:difficulty] != '0' * difficulty:\n",
    "            self.nonce += 1\n",
    "            self.hash = self.calculate_hash()\n",
    "        print(\"Block mined: {}\".format(self.hash))\n",
    "    \n",
    "\n",
    "class Blockchain:\n",
    "    def __init__(self):\n",
    "        self.chain = [self.create_genesis_block()]\n",
    "        self.difficulty = 2\n",
    "    \n",
    "    def create_genesis_block(self):\n",
    "        return Block(\"Genesis Block\", \"0\")\n",
    "    \n",
    "    def get_last_block(self):\n",
    "        return self.chain[-1]\n",
    "    \n",
    "    def add_block(self, new_block):\n",
    "        new_block.previous_hash = self.get_last_block().hash\n",
    "        new_block.mine_block(self.difficulty)\n",
    "        self.chain.append(new_block)\n",
    "\n",
    "    def is_chain_valid(self):\n",
    "        for i in range(1, len(self.chain)):\n",
    "            current_block = self.chain[i]\n",
    "            previous_block = self.chain[i-1]\n",
    "\n",
    "            if current_block.hash != current_block.calculate_hash():\n",
    "                return False\n",
    "            if current_block.previous_hash != previous_block.hash:\n",
    "                return False\n",
    "        \n",
    "        return True\n",
    "\n",
    "if __name__ == '__main__':\n",
    "    blockchain = Blockchain()\n",
    "\n",
    "    print(\"Mining Block 1\")\n",
    "    blockchain.add_block(Block(\"Transaction 1\", \"\"))\n",
    "\n",
    "    print(\"Mining Block 2\")\n",
    "    blockchain.add_block(Block(\"Transaction 2\", \"\"))\n",
    "\n",
    "    print(\"Mining Block 3\")\n",
    "    blockchain.add_block(Block(\"Transaction 3\", \"\")) \n",
    "\n",
    "    print(\"Mining Block 4\")\n",
    "    blockchain.add_block(Block(\"Transaction 4\", \"\"))  \n",
    "\n",
    "    print(\"Is blockchain valid?\")\n",
    "\n",
    "    if blockchain.is_chain_valid() == True:\n",
    "        print(\"The blockchain is valid. Its not tempered yet\")\n",
    "    \n",
    "    blockchain.chain[1].data = \"Tempered transaction\"\n",
    "    print(\"Is blockchain valid?\")\n",
    "\n",
    "    if blockchain.is_chain_valid() == False:\n",
    "        print(\"The blockchain is not valid. Blockchain is tempered\")\n",
    "\n"
   ]
  },
  {
   "cell_type": "markdown",
   "metadata": {},
   "source": [
    "2.7.5 Write a Program in Python to Verify Hash Properties"
   ]
  },
  {
   "cell_type": "code",
   "execution_count": 6,
   "metadata": {},
   "outputs": [
    {
     "name": "stdout",
     "output_type": "stream",
     "text": [
      "MD5 hash is consistent\n",
      "MD5 hash is 32 characters long\n",
      "SHA-1 hash is consistent\n",
      "SHA-1 hash is 40 characters long\n",
      "SHA-256 hash is consistent\n",
      "SHA-256 hash is 64 characters long\n"
     ]
    }
   ],
   "source": [
    "message = b\"Hello, world!\"\n",
    "\n",
    "# Calculate hash values using different hash functions\n",
    "md5_hash = hashlib.md5(message).hexdigest()\n",
    "sha1_hash = hashlib.sha1(message).hexdigest()\n",
    "sha256_hash = hashlib.sha256(message).hexdigest()\n",
    "\n",
    "# Verify hash properties\n",
    "# MD5\n",
    "if md5_hash == hashlib.md5(message).hexdigest():\n",
    "\tprint(\"MD5 hash is consistent\")\n",
    "else:\n",
    "\tprint(\"MD5 hash is inconsistent\")\n",
    "\n",
    "if len(md5_hash) == 32:\n",
    "\tprint(\"MD5 hash is 32 characters long\")\n",
    "else:\n",
    "\tprint(\"MD5 hash is not 32 characters long\")\n",
    "\n",
    "# SHA-1\n",
    "if sha1_hash == hashlib.sha1(message).hexdigest():\n",
    "\tprint(\"SHA-1 hash is consistent\")\n",
    "else:\n",
    "\tprint(\"SHA-1 hash is inconsistent\")\n",
    "\n",
    "if len(sha1_hash) == 40:\n",
    "\tprint(\"SHA-1 hash is 40 characters long\")\n",
    "else:\n",
    "\tprint(\"SHA-1 hash is not 40 characters long\")\n",
    "\n",
    "# SHA-256\n",
    "if sha256_hash == hashlib.sha256(message).hexdigest():\n",
    "\tprint(\"SHA-256 hash is consistent\")\n",
    "else:\n",
    "\tprint(\"SHA-256 hash is inconsistent\")\n",
    "\n",
    "if len(sha256_hash) == 64:\n",
    "\tprint(\"SHA-256 hash is 64 characters long\")\n",
    "else:\n",
    "\tprint(\"SHA-256 hash is not 64 characters long\")"
   ]
  },
  {
   "cell_type": "markdown",
   "metadata": {},
   "source": [
    "2.7.6 Program to Demonstrate a Simple Implementation of a Blockchain Using\n",
    "Hash Codes as a Chain of Blocks"
   ]
  },
  {
   "cell_type": "code",
   "execution_count": 8,
   "metadata": {},
   "outputs": [
    {
     "name": "stdout",
     "output_type": "stream",
     "text": [
      "Is blockchain valid? True\n",
      "Is manipulated blockchain valid? False\n"
     ]
    }
   ],
   "source": [
    "\n",
    "\n",
    "class Block:\n",
    "    def __init__(self, timestamp, data, previous_hash):\n",
    "        self.timestamp = timestamp\n",
    "        self.data = data\n",
    "        self.previous_hash = previous_hash\n",
    "        self.hash = self.calculate_hash()\n",
    "\n",
    "    def calculate_hash(self):\n",
    "        hash_string = str(self.timestamp) + str(self.data) + str(self.previous_hash)\n",
    "        return hashlib.sha256(hash_string.encode()).hexdigest()\n",
    "\n",
    "class Blockchain:\n",
    "    def __init__(self):\n",
    "        self.chain = [self.create_genesis_block()]\n",
    "\n",
    "    def create_genesis_block(self):\n",
    "        return Block(datetime.datetime.now(), \"Genesis Block\", \"0\")\n",
    "\n",
    "    def get_latest_block(self):\n",
    "        return self.chain[-1]\n",
    "\n",
    "    def add_block(self, new_block):\n",
    "        new_block.previous_hash = self.get_latest_block().hash\n",
    "        new_block.hash = new_block.calculate_hash()\n",
    "        self.chain.append(new_block)\n",
    "\n",
    "    def is_valid(self):\n",
    "        for i in range(1, len(self.chain)):\n",
    "            current_block = self.chain[i]\n",
    "            previous_block = self.chain[i - 1]\n",
    "\n",
    "            if current_block.hash != current_block.calculate_hash():\n",
    "                return False\n",
    "\n",
    "            if current_block.previous_hash != previous_block.hash:\n",
    "                return False\n",
    "\n",
    "        return True\n",
    "\n",
    "# Create a blockchain and add blocks\n",
    "blockchain = Blockchain()\n",
    "blockchain.add_block(Block(datetime.datetime.now(), \"Block 1\", \"\"))\n",
    "blockchain.add_block(Block(datetime.datetime.now(), \"Block 2\", \"\"))\n",
    "blockchain.add_block(Block(datetime.datetime.now(), \"Block 3\", \"\"))\n",
    "\n",
    "# Check if the blockchain is valid\n",
    "print(\"Is blockchain valid?\", blockchain.is_valid())\n",
    "\n",
    "# Manipulating the blockchain (introducing an invalid block)\n",
    "blockchain.chain[1].data = \"Modified Block\"\n",
    "\n",
    "# Check if the manipulated blockchain is valid\n",
    "print(\"Is manipulated blockchain valid?\", blockchain.is_valid())"
   ]
  },
  {
   "cell_type": "markdown",
   "metadata": {},
   "source": [
    "2.7.8 Program to Create a Merkle Tree in Blockchain"
   ]
  },
  {
   "cell_type": "code",
   "execution_count": 9,
   "metadata": {},
   "outputs": [
    {
     "name": "stdout",
     "output_type": "stream",
     "text": [
      "Merkle Root: a8a47df37813a566684c24dad190a674e6a67b860434c3154cfbb3d22725877a\n"
     ]
    }
   ],
   "source": [
    "class MerkleTree:\n",
    "    def __init__(self, transactions):\n",
    "        self.transactions = transactions\n",
    "        self.tree = self.build_merkle_tree(transactions)\n",
    "\n",
    "    def build_merkle_tree(self, transactions):\n",
    "        if len(transactions) == 1:\n",
    "            return transactions\n",
    "\n",
    "        new_level = []\n",
    "        for i in range(0, len(transactions), 2):\n",
    "            left = transactions[i]\n",
    "            right = transactions[i + 1] if i + 1 < len(transactions) else transactions[i]\n",
    "            new_level.append(self.hash_pair(left, right))\n",
    "\n",
    "        return self.build_merkle_tree(new_level)\n",
    "\n",
    "    def hash_pair(self, left, right):\n",
    "        return hashlib.sha256((left + right).encode()).hexdigest()\n",
    "\n",
    "    def get_root(self):\n",
    "        return self.tree[0] if self.tree else None\n",
    "\n",
    "# Example usage\n",
    "transactions = [\"tx1\", \"tx2\", \"tx3\", \"tx4\"]\n",
    "merkle_tree = MerkleTree(transactions)\n",
    "print(\"Merkle Root:\", merkle_tree.get_root())"
   ]
  },
  {
   "cell_type": "markdown",
   "metadata": {},
   "source": [
    "markle tree chat gpt"
   ]
  },
  {
   "cell_type": "code",
   "execution_count": 10,
   "metadata": {},
   "outputs": [
    {
     "name": "stdout",
     "output_type": "stream",
     "text": [
      "Timestamp: 2025-01-28 23:58:36.246209\n",
      "Merkle Root: 78242c0d0e007f3f2ec67699880fb78d12cbbec434bd839d5b5a1f93aa1abb42\n",
      "Previous Hash: 0\n",
      "Current Block Hash: 7758cac2583e6cd2ec1070bad76a9b789ad1810131f50c2d470db09111cb4255\n",
      "\n",
      "Timestamp: 2025-01-28 23:58:36.246209\n",
      "Merkle Root: a31d3187c179a847bc0fbe729e06a0770147ad58b45995ac945032df15ba38e3\n",
      "Previous Hash: 7758cac2583e6cd2ec1070bad76a9b789ad1810131f50c2d470db09111cb4255\n",
      "Current Block Hash: 61cb1abc7d30a48235c911cbcba3116627b09b18ecf0d42c69dca4ad2d4bce41\n",
      "\n",
      "Timestamp: 2025-01-28 23:58:36.246209\n",
      "Merkle Root: c6dadc3fe8fde36887f07ed12e0bb073b4165d0921749b98b2ae237f3aed3e07\n",
      "Previous Hash: 61cb1abc7d30a48235c911cbcba3116627b09b18ecf0d42c69dca4ad2d4bce41\n",
      "Current Block Hash: edcb5591e7e7194c49b3f7e25b99829fd80662a5b31a50f2f449bcf68e303efa\n",
      "\n",
      "Timestamp: 2025-01-28 23:58:36.246209\n",
      "Merkle Root: 092a393b552cc9aaffe99fcf3e3c49efe2636321ff30c92e12d7aa56f54cd2bf\n",
      "Previous Hash: edcb5591e7e7194c49b3f7e25b99829fd80662a5b31a50f2f449bcf68e303efa\n",
      "Current Block Hash: 14e1da12f641f6992ec84ec5f151889574415bf36dba6bc402fdbe19b0e65b79\n",
      "\n",
      "Timestamp: 2025-01-28 23:58:36.246209\n",
      "Merkle Root: 9dd351db10d411173e39d37503e7d6404f409979579dec457ea52b6d7d0ec58c\n",
      "Previous Hash: 14e1da12f641f6992ec84ec5f151889574415bf36dba6bc402fdbe19b0e65b79\n",
      "Current Block Hash: 50f21f1b867320d111a6171674acdbc3b8fa7da261682ab0b22841c6882691c8\n",
      "\n"
     ]
    }
   ],
   "source": [
    "import hashlib\n",
    "import datetime\n",
    "\n",
    "class MerkleTree:\n",
    "    def __init__(self, data_list):\n",
    "        self.data_list = data_list\n",
    "        self.tree = []\n",
    "        self.build_tree()\n",
    "\n",
    "    def build_tree(self):\n",
    "        \"\"\"Builds the Merkle tree from the data list.\"\"\"\n",
    "        # Initialize the leaves of the tree (hash of each data item)\n",
    "        current_level = [self.hash_data(data) for data in self.data_list]\n",
    "        self.tree.append(current_level)\n",
    "\n",
    "        # Build the tree upwards until only one hash remains (the root)\n",
    "        while len(current_level) > 1:\n",
    "            current_level = self.hash_pairs(current_level)\n",
    "            self.tree.append(current_level)\n",
    "\n",
    "    def hash_data(self, data):\n",
    "        \"\"\"Hash a piece of data (transaction) to create a leaf node.\"\"\"\n",
    "        return hashlib.sha256(data.encode('utf-8')).hexdigest()\n",
    "\n",
    "    def hash_pairs(self, pair_list):\n",
    "        \"\"\"Hash pairs of items in the current level to create the next level.\"\"\"\n",
    "        paired_hashes = []\n",
    "        for i in range(0, len(pair_list), 2):\n",
    "            if i + 1 < len(pair_list):  # Pair exists\n",
    "                paired_hashes.append(self.hash_data(pair_list[i] + pair_list[i+1]))\n",
    "            else:  # If odd number of items, duplicate the last item for pairing\n",
    "                paired_hashes.append(pair_list[i])\n",
    "        return paired_hashes\n",
    "\n",
    "    def get_merkle_root(self):\n",
    "        \"\"\"Get the Merkle root of the tree (top hash of the final level).\"\"\"\n",
    "        return self.tree[-1][0] if self.tree else None\n",
    "\n",
    "    def print_tree(self):\n",
    "        \"\"\"Optionally print the Merkle tree structure.\"\"\"\n",
    "        for level in self.tree:\n",
    "            print(level)\n",
    "\n",
    "\n",
    "class Block:\n",
    "    def __init__(self, data, previous_hash):\n",
    "        self.timestamp = datetime.datetime.now()\n",
    "        self.data = data  # This is a list of transactions\n",
    "        self.previous_hash = previous_hash\n",
    "        self.merkle_tree = MerkleTree(data)  # Create Merkle tree for the block's data\n",
    "        self.merkle_root = self.merkle_tree.get_merkle_root()  # Root hash of the Merkle tree\n",
    "        self.hash = self.calculate_hash()\n",
    "\n",
    "    def calculate_hash(self):\n",
    "        \"\"\"Calculate the hash of the block, including Merkle root and previous hash.\"\"\"\n",
    "        hash_string = str(self.timestamp) + str(self.previous_hash) + str(self.merkle_root)\n",
    "        return hashlib.sha256(hash_string.encode('utf-8')).hexdigest()\n",
    "\n",
    "    def display_block_info(self):\n",
    "        \"\"\"Display basic information about the block.\"\"\"\n",
    "        print(\"Timestamp:\", self.timestamp)\n",
    "        print(\"Merkle Root:\", self.merkle_root)\n",
    "        print(\"Previous Hash:\", self.previous_hash)\n",
    "        print(\"Current Block Hash:\", self.hash)\n",
    "\n",
    "\n",
    "class Blockchain:\n",
    "    def __init__(self):\n",
    "        self.chain = [self.create_genesis_block()]\n",
    "\n",
    "    def create_genesis_block(self):\n",
    "        \"\"\"Create the first block in the blockchain.\"\"\"\n",
    "        return Block([\"Genesis Transaction\"], \"0\")\n",
    "\n",
    "    def add_block(self, new_block):\n",
    "        \"\"\"Add a new block to the blockchain.\"\"\"\n",
    "        new_block.previous_hash = self.chain[-1].hash\n",
    "        self.chain.append(new_block)\n",
    "\n",
    "    def traverse_chain(self):\n",
    "        \"\"\"Traverse and display all blocks in the blockchain.\"\"\"\n",
    "        for block in self.chain:\n",
    "            block.display_block_info()\n",
    "            print(\"\")\n",
    "\n",
    "\n",
    "# Example Usage\n",
    "blockchain = Blockchain()\n",
    "\n",
    "# Add blocks with transactions\n",
    "blockchain.add_block(Block([\"Transaction 1\", \"Transaction 2\"], \"\"))\n",
    "blockchain.add_block(Block([\"Transaction 3\", \"Transaction 4\"], \"\"))\n",
    "blockchain.add_block(Block([\"Transaction 5\", \"Transaction 6\"], \"\"))\n",
    "blockchain.add_block(Block([\"Transaction 7\", \"Transaction 8\"], \"\"))\n",
    "\n",
    "# Traverse and print the blockchain with Merkle roots\n",
    "blockchain.traverse_chain()\n"
   ]
  },
  {
   "cell_type": "markdown",
   "metadata": {},
   "source": [
    "markle tree abu rayhan"
   ]
  },
  {
   "cell_type": "code",
   "execution_count": 11,
   "metadata": {},
   "outputs": [],
   "source": [
    "import hashlib\n",
    "\n",
    "class MerkleTree:\n",
    "    def __init__(self, rowData: list[str]):\n",
    "        self.rowData = rowData\n",
    "        self.sizeOfTransaction = len(rowData)\n",
    "        self.merkleTree = [\"\"] * (2 * self.sizeOfTransaction)\n",
    "\n",
    "    def buildMerkleTree(self):\n",
    "        # Fill leaf nodes with hashes of the row data\n",
    "        for i in range(self.sizeOfTransaction):\n",
    "            self.merkleTree[self.sizeOfTransaction + i] = hashlib.sha256(self.rowData[i].encode()).hexdigest()\n",
    "\n",
    "        # Build internal nodes by combining child node hashes\n",
    "        for i in range(self.sizeOfTransaction - 1, 0, -1):\n",
    "            leftChild = self.merkleTree[2 * i]\n",
    "            rightChild = self.merkleTree[2 * i + 1]\n",
    "            self.merkleTree[i] = hashlib.sha256((leftChild + rightChild).encode()).hexdigest()\n",
    "\n",
    "    def checkMembership(self, targetIndex: int, content: str) -> bool:\n",
    "        targetHash = hashlib.sha256(content.encode()).hexdigest()\n",
    "        nodeIndex = self.sizeOfTransaction + targetIndex\n",
    "        \n",
    "        # Traverse up the tree to check membership\n",
    "        while nodeIndex > 1:\n",
    "            parentIndex = nodeIndex // 2\n",
    "            siblingIndex = nodeIndex + 1 if nodeIndex % 2 == 0 else nodeIndex - 1\n",
    "            siblingHash = self.merkleTree[siblingIndex]\n",
    "            \n",
    "            # Concatenate with sibling hash and hash the result\n",
    "            if nodeIndex % 2 == 0:\n",
    "                targetHash = hashlib.sha256((targetHash + siblingHash).encode()).hexdigest()\n",
    "            else:\n",
    "                targetHash = hashlib.sha256((siblingHash + targetHash).encode()).hexdigest()\n",
    "            \n",
    "            nodeIndex = parentIndex\n",
    "        \n",
    "        # The targetHash must match the root hash for membership\n",
    "        return targetHash == self.merkleTree[1]\n",
    "\n",
    "    def getMerkleRoot(self) -> str:\n",
    "        return self.merkleTree[1]\n"
   ]
  },
  {
   "cell_type": "code",
   "execution_count": 12,
   "metadata": {},
   "outputs": [
    {
     "name": "stdout",
     "output_type": "stream",
     "text": [
      "True\n",
      "False\n",
      "False\n",
      "Merkle Root: 7e1182c5c00e379261503e757487cfa16cda7010f1ca3ae0115d5b78cfc07509\n"
     ]
    }
   ],
   "source": [
    "# Example usage:\n",
    "transactions = [\"Transaction 1\", \"Transaction 2\", \"Transaction 3\", \"Transaction 4\"]\n",
    "merkle = MerkleTree(transactions)\n",
    "\n",
    "# Build the Merkle tree\n",
    "merkle.buildMerkleTree()\n",
    "\n",
    "# Check membership of a transaction\n",
    "print(merkle.checkMembership(2, \"Transaction 3\"))  # Should return True\n",
    "print(merkle.checkMembership(1, \"Transaction 4\"))  # Should return True\n",
    "print(merkle.checkMembership(0, \"Transaction 5\"))  # Should return False\n",
    "\n",
    "# Get the Merkle root\n",
    "print(\"Merkle Root:\", merkle.getMerkleRoot())\n"
   ]
  }
 ],
 "metadata": {
  "kernelspec": {
   "display_name": "Python 3",
   "language": "python",
   "name": "python3"
  },
  "language_info": {
   "codemirror_mode": {
    "name": "ipython",
    "version": 3
   },
   "file_extension": ".py",
   "mimetype": "text/x-python",
   "name": "python",
   "nbconvert_exporter": "python",
   "pygments_lexer": "ipython3",
   "version": "3.12.3"
  }
 },
 "nbformat": 4,
 "nbformat_minor": 2
}
